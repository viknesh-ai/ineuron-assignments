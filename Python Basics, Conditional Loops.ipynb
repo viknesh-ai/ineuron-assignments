{
 "cells": [
  {
   "cell_type": "code",
   "execution_count": 1,
   "id": "c85622b6",
   "metadata": {
    "scrolled": true
   },
   "outputs": [
    {
     "name": "stdout",
     "output_type": "stream",
     "text": [
      "[2002, 2009, 2016, 2023, 2037, 2044, 2051, 2058, 2072, 2079, 2086, 2093, 2107, 2114, 2121, 2128, 2142, 2149, 2156, 2163, 2177, 2184, 2191, 2198, 2212, 2219, 2226, 2233, 2247, 2254, 2261, 2268, 2282, 2289, 2296, 2303, 2317, 2324, 2331, 2338, 2352, 2359, 2366, 2373, 2387, 2394, 2401, 2408, 2422, 2429, 2436, 2443, 2457, 2464, 2471, 2478, 2492, 2499, 2506, 2513, 2527, 2534, 2541, 2548, 2562, 2569, 2576, 2583, 2597, 2604, 2611, 2618, 2632, 2639, 2646, 2653, 2667, 2674, 2681, 2688, 2702, 2709, 2716, 2723, 2737, 2744, 2751, 2758, 2772, 2779, 2786, 2793, 2807, 2814, 2821, 2828, 2842, 2849, 2856, 2863, 2877, 2884, 2891, 2898, 2912, 2919, 2926, 2933, 2947, 2954, 2961, 2968, 2982, 2989, 2996, 3003, 3017, 3024, 3031, 3038, 3052, 3059, 3066, 3073, 3087, 3094, 3101, 3108, 3122, 3129, 3136, 3143, 3157, 3164, 3171, 3178, 3192, 3199]\n"
     ]
    }
   ],
   "source": [
    "#How do I write a python program which will find all such numbers which are divisible by 7 but are not a multiple of 5, between 2000 and 3200 (both includeded)?The numbers obtained should be printed in comma seperated\n",
    "#code\n",
    "#question 1\n",
    "lst = [i for i in range(2000, 3201) if i % 7 == 0 if i % 5 != 0] \n",
    "print(lst)"
   ]
  },
  {
   "cell_type": "code",
   "execution_count": 3,
   "id": "291fae64",
   "metadata": {},
   "outputs": [
    {
     "name": "stdout",
     "output_type": "stream",
     "text": [
      "Please insert your First Name: viknesh\n",
      "Please insert your Last Name:viki\n",
      "Output:\n",
      "User Full Name : viknesh viki\n",
      "User Name in reverse order is : ikiv hsenkiv\n"
     ]
    }
   ],
   "source": [
    "#question2\n",
    "first_name=input(\"Please insert your First Name: \")\n",
    "last_name=input(\"Please insert your Last Name:\")\n",
    "\n",
    "user_name=first_name+' '+last_name\n",
    "print(\"Output:\")\n",
    "print(\"User Full Name :\",user_name)\n",
    "print(\"User Name in reverse order is :\",user_name[::-1])"
   ]
  },
  {
   "cell_type": "code",
   "execution_count": null,
   "id": "7fe2b05f",
   "metadata": {},
   "outputs": [],
   "source": [
    "#question 3\n",
    "import math\n",
    "diameter_of_sphere=12\n",
    "\n",
    "\n",
    "volume_of_sphere=(4/3)*(math.pi)*(diameter_of_sphere/2)**3\n",
    "print(\"Output:\")\n",
    "print(\"Diameter of sphere is:\",diameter_of_sphere,\"cm\")\n",
    "print(\"The Volume of sphere is :\"+str(volume_of_sphere)+\" cc\")"
   ]
  }
 ],
 "metadata": {
  "kernelspec": {
   "display_name": "Python 3",
   "language": "python",
   "name": "python3"
  },
  "language_info": {
   "codemirror_mode": {
    "name": "ipython",
    "version": 3
   },
   "file_extension": ".py",
   "mimetype": "text/x-python",
   "name": "python",
   "nbconvert_exporter": "python",
   "pygments_lexer": "ipython3",
   "version": "3.8.8"
  }
 },
 "nbformat": 4,
 "nbformat_minor": 5
}
